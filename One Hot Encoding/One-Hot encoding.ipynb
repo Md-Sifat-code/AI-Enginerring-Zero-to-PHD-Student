{
 "cells": [
  {
   "cell_type": "markdown",
   "id": "cedd720a",
   "metadata": {},
   "source": [
    "## One Hot encoding using OneHOTEncoder"
   ]
  },
  {
   "cell_type": "markdown",
   "id": "28884d01",
   "metadata": {},
   "source": [
    "## One-hot encoding is a method to convert categorical data (like \"HR\", \"IT\", \"Finance\") into a numerical format that machine learning models can understand."
   ]
  },
  {
   "cell_type": "code",
   "execution_count": 2,
   "id": "d784c2ce",
   "metadata": {},
   "outputs": [],
   "source": [
    "#one hot encoding OneHotEncoder of Scikit-Learn\n",
    "\n",
    "import pandas as pd\n",
    "from sklearn.preprocessing import OneHotEncoder\n"
   ]
  },
  {
   "cell_type": "code",
   "execution_count": 4,
   "id": "d86fa89d",
   "metadata": {},
   "outputs": [
    {
     "name": "stdout",
     "output_type": "stream",
     "text": [
      "Expanded Employee Data:\n",
      "   Employee ID   Name Gender  Age Department  Salary      Remarks\n",
      "0           10  Alice      F   28         HR   50000         Good\n",
      "1           20    Bob      M   34         IT   70000         Nice\n",
      "2           15  Cathy      F   25    Finance   52000         Good\n",
      "3           25  David      M   45         IT   80000        Great\n",
      "4           30    Eva      F   30         HR   56000         Nice\n",
      "5           35  Frank      M   38    Finance   78000    Excellent\n",
      "6           40  Grace      F   27  Marketing   60000         Good\n",
      "7           45  Henry      M   41         IT   85000  Outstanding\n",
      "8           50    Ivy      F   29         HR   58000         Nice\n",
      "9           55   Jack      M   36  Marketing   62000        Great\n"
     ]
    }
   ],
   "source": [
    "import pandas as pd\n",
    "\n",
    "# Expanded employee dataset\n",
    "data = {\n",
    "    'Employee ID': [10, 20, 15, 25, 30, 35, 40, 45, 50, 55],\n",
    "    'Name': ['Alice', 'Bob', 'Cathy', 'David', 'Eva', 'Frank', 'Grace', 'Henry', 'Ivy', 'Jack'],\n",
    "    'Gender': ['F', 'M', 'F', 'M', 'F', 'M', 'F', 'M', 'F', 'M'],\n",
    "    'Age': [28, 34, 25, 45, 30, 38, 27, 41, 29, 36],\n",
    "    'Department': ['HR', 'IT', 'Finance', 'IT', 'HR', 'Finance', 'Marketing', 'IT', 'HR', 'Marketing'],\n",
    "    'Salary': [50000, 70000, 52000, 80000, 56000, 78000, 60000, 85000, 58000, 62000],\n",
    "    'Remarks': ['Good', 'Nice', 'Good', 'Great', 'Nice', 'Excellent', 'Good', 'Outstanding', 'Nice', 'Great']\n",
    "}\n",
    "\n",
    "# Create DataFrame\n",
    "df = pd.DataFrame(data)\n",
    "\n",
    "# Print the expanded DataFrame\n",
    "print(f'Expanded Employee Data:\\n{df}')\n"
   ]
  },
  {
   "cell_type": "code",
   "execution_count": 5,
   "id": "0dd81242",
   "metadata": {},
   "outputs": [
    {
     "data": {
      "text/plain": [
       "['Name', 'Gender', 'Department', 'Remarks']"
      ]
     },
     "execution_count": 5,
     "metadata": {},
     "output_type": "execute_result"
    }
   ],
   "source": [
    "# Extract categorical colums ffrom the dataframe\n",
    "# Here we extract the columns with object datatype as they are the categorical ccolums\n",
    "categorical_columns = df.select_dtypes(include= ['object']).columns.tolist()\n",
    "categorical_columns"
   ]
  },
  {
   "cell_type": "code",
   "execution_count": 9,
   "id": "4f392bd8",
   "metadata": {},
   "outputs": [
    {
     "name": "stdout",
     "output_type": "stream",
     "text": [
      "Encoded Employee data: \n",
      "   Employee ID   Name Gender  Age Department  Salary      Remarks  Name_Alice  \\\n",
      "0           10  Alice      F   28         HR   50000         Good         1.0   \n",
      "1           20    Bob      M   34         IT   70000         Nice         0.0   \n",
      "2           15  Cathy      F   25    Finance   52000         Good         0.0   \n",
      "3           25  David      M   45         IT   80000        Great         0.0   \n",
      "4           30    Eva      F   30         HR   56000         Nice         0.0   \n",
      "5           35  Frank      M   38    Finance   78000    Excellent         0.0   \n",
      "6           40  Grace      F   27  Marketing   60000         Good         0.0   \n",
      "7           45  Henry      M   41         IT   85000  Outstanding         0.0   \n",
      "8           50    Ivy      F   29         HR   58000         Nice         0.0   \n",
      "9           55   Jack      M   36  Marketing   62000        Great         0.0   \n",
      "\n",
      "   Name_Bob  Name_Cathy  ...  Gender_M  Department_Finance  Department_HR  \\\n",
      "0       0.0         0.0  ...       0.0                 0.0            1.0   \n",
      "1       1.0         0.0  ...       1.0                 0.0            0.0   \n",
      "2       0.0         1.0  ...       0.0                 1.0            0.0   \n",
      "3       0.0         0.0  ...       1.0                 0.0            0.0   \n",
      "4       0.0         0.0  ...       0.0                 0.0            1.0   \n",
      "5       0.0         0.0  ...       1.0                 1.0            0.0   \n",
      "6       0.0         0.0  ...       0.0                 0.0            0.0   \n",
      "7       0.0         0.0  ...       1.0                 0.0            0.0   \n",
      "8       0.0         0.0  ...       0.0                 0.0            1.0   \n",
      "9       0.0         0.0  ...       1.0                 0.0            0.0   \n",
      "\n",
      "   Department_IT  Department_Marketing  Remarks_Excellent  Remarks_Good  \\\n",
      "0            0.0                   0.0                0.0           1.0   \n",
      "1            1.0                   0.0                0.0           0.0   \n",
      "2            0.0                   0.0                0.0           1.0   \n",
      "3            1.0                   0.0                0.0           0.0   \n",
      "4            0.0                   0.0                0.0           0.0   \n",
      "5            0.0                   0.0                1.0           0.0   \n",
      "6            0.0                   1.0                0.0           1.0   \n",
      "7            1.0                   0.0                0.0           0.0   \n",
      "8            0.0                   0.0                0.0           0.0   \n",
      "9            0.0                   1.0                0.0           0.0   \n",
      "\n",
      "   Remarks_Great  Remarks_Nice  Remarks_Outstanding  \n",
      "0            0.0           0.0                  0.0  \n",
      "1            0.0           1.0                  0.0  \n",
      "2            0.0           0.0                  0.0  \n",
      "3            1.0           0.0                  0.0  \n",
      "4            0.0           1.0                  0.0  \n",
      "5            0.0           0.0                  0.0  \n",
      "6            0.0           0.0                  0.0  \n",
      "7            0.0           0.0                  1.0  \n",
      "8            0.0           1.0                  0.0  \n",
      "9            1.0           0.0                  0.0  \n",
      "\n",
      "[10 rows x 28 columns]\n"
     ]
    }
   ],
   "source": [
    "#Initialize the OneHotEncoder\n",
    "encoder = OneHotEncoder(sparse_output=False)\n",
    "\n",
    "# Aplly one-hot encoding ro rhe careforial colums\n",
    "one_hot_encoded = encoder.fit_transform(df[categorical_columns])\n",
    "\n",
    "\n",
    "#Create a DataFrame with the one-hot encoded columns\n",
    "# We use get_feature_names_out() to get the column names for the encoded data\n",
    "one_hot_df = pd.DataFrame(one_hot_encoded, columns= encoder.get_feature_names_out(categorical_columns))\n",
    "\n",
    "\n",
    "#Concatenate the one-hot encoded dataframe with the original dataframe\n",
    "df_encoded = pd.concat([df,one_hot_df], axis=1)\n",
    "\n",
    "\n",
    "#Display the resulting dataframe\n",
    "print(f'Encoded Employee data: \\n{df_encoded}')\n"
   ]
  },
  {
   "cell_type": "code",
   "execution_count": 11,
   "id": "f852196c",
   "metadata": {},
   "outputs": [
    {
     "data": {
      "image/png": "[encoded data removed]",
      "text/plain": [
       "<Figure size 800x600 with 1 Axes>"
      ]
     },
     "metadata": {},
     "output_type": "display_data"
    }
   ],
   "source": [
    "from sklearn.decomposition import PCA\n",
    "import matplotlib.pyplot as plt\n",
    "# Perform PCA to reduce to 2 components\n",
    "pca = PCA(n_components=2)\n",
    "pca_result = pca.fit_transform(one_hot_df)\n",
    "\n",
    "# Plot the 2D representation\n",
    "plt.figure(figsize=(8, 6))\n",
    "plt.scatter(pca_result[:, 0], pca_result[:, 1])\n",
    "plt.title('PCA of One-Hot Encoded Employee Data')\n",
    "plt.xlabel('Principal Component 1')\n",
    "plt.ylabel('Principal Component 2')\n",
    "plt.grid(True)\n",
    "plt.show()\n"
   ]
  }
 ],
 "metadata": {
  "kernelspec": {
   "display_name": "Python 3",
   "language": "python",
   "name": "python3"
  },
  "language_info": {
   "codemirror_mode": {
    "name": "ipython",
    "version": 3
   },
   "file_extension": ".py",
   "mimetype": "text/x-python",
   "name": "python",
   "nbconvert_exporter": "python",
   "pygments_lexer": "ipython3",
   "version": "3.12.6"
  }
 },
 "nbformat": 4,
 "nbformat_minor": 5
}
