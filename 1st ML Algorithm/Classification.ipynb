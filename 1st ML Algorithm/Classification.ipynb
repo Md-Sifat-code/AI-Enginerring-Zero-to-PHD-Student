{
 "cells": [
  {
   "cell_type": "markdown",
   "id": "15cd6e93",
   "metadata": {},
   "source": [
    "# Firstly import the dependency"
   ]
  },
  {
   "cell_type": "code",
   "execution_count": 2,
   "id": "08199657",
   "metadata": {},
   "outputs": [],
   "source": [
    "## We are using the following libraries\n",
    "import numpy as np\n",
    "import matplotlib.pyplot as plt"
   ]
  },
  {
   "cell_type": "code",
   "execution_count": 3,
   "id": "e978c3d9",
   "metadata": {},
   "outputs": [],
   "source": [
    "np.random.seed(0) # For reproducibility"
   ]
  },
  {
   "cell_type": "code",
   "execution_count": 4,
   "id": "f3cfdf21",
   "metadata": {},
   "outputs": [],
   "source": [
    "#Dogs: Higher ear flapiness index , lower wisker legth\n",
    "# Generate random data for dogs\n",
    "dogs_wisker_length = np.random.normal(loc= 5, scale=1, size=20)\n",
    "dogs_flapiness_index = np.random.normal(loc= 8, scale=1, size=20)"
   ]
  },
  {
   "cell_type": "code",
   "execution_count": 6,
   "id": "440ae5cc",
   "metadata": {},
   "outputs": [
    {
     "data": {
      "text/plain": [
       "array([ 5.44701018,  8.6536186 ,  8.8644362 ,  7.25783498, 10.26975462,\n",
       "        6.54563433,  8.04575852,  7.81281615,  9.53277921,  9.46935877,\n",
       "        8.15494743,  8.37816252,  7.11221425,  6.01920353,  7.65208785,\n",
       "        8.15634897,  9.23029068,  9.20237985,  7.61267318,  7.69769725])"
      ]
     },
     "execution_count": 6,
     "metadata": {},
     "output_type": "execute_result"
    }
   ],
   "source": [
    "dogs_flapiness_index\n"
   ]
  },
  {
   "cell_type": "code",
   "execution_count": 7,
   "id": "ac431d73",
   "metadata": {},
   "outputs": [
    {
     "data": {
      "text/plain": [
       "array([6.76405235, 5.40015721, 5.97873798, 7.2408932 , 6.86755799,\n",
       "       4.02272212, 5.95008842, 4.84864279, 4.89678115, 5.4105985 ,\n",
       "       5.14404357, 6.45427351, 5.76103773, 5.12167502, 5.44386323,\n",
       "       5.33367433, 6.49407907, 4.79484174, 5.3130677 , 4.14590426])"
      ]
     },
     "execution_count": 7,
     "metadata": {},
     "output_type": "execute_result"
    }
   ],
   "source": [
    "dogs_wisker_length"
   ]
  },
  {
   "cell_type": "code",
   "execution_count": 8,
   "id": "310f91ca",
   "metadata": {},
   "outputs": [],
   "source": [
    "#Cats: Lower ear flapiness index , higher wisker legth\n",
    "# Generate random data for cats\n",
    "cats_wisker_length = np.random.normal(loc= 8, scale=1, size=20)\n",
    "cats_flapiness_index = np.random.normal(loc= 5, scale=1, size=20)"
   ]
  },
  {
   "cell_type": "code",
   "execution_count": 9,
   "id": "5ccfcb1a",
   "metadata": {},
   "outputs": [
    {
     "data": {
      "text/plain": [
       "array([4.32753955, 4.64044684, 4.18685372, 3.2737174 , 5.17742614,\n",
       "       4.59821906, 3.36980165, 5.46278226, 4.09270164, 5.0519454 ,\n",
       "       5.72909056, 5.12898291, 6.13940068, 3.76517418, 5.40234164,\n",
       "       4.31518991, 4.12920285, 4.42115034, 4.68844747, 5.05616534])"
      ]
     },
     "execution_count": 9,
     "metadata": {},
     "output_type": "execute_result"
    }
   ],
   "source": [
    "cats_flapiness_index"
   ]
  },
  {
   "cell_type": "code",
   "execution_count": 10,
   "id": "5a7ca5a7",
   "metadata": {},
   "outputs": [
    {
     "data": {
      "text/plain": [
       "array([6.95144703, 6.57998206, 6.29372981, 9.9507754 , 7.49034782,\n",
       "       7.5619257 , 6.74720464, 8.77749036, 6.38610215, 7.78725972,\n",
       "       7.10453344, 8.3869025 , 7.48919486, 6.81936782, 7.97181777,\n",
       "       8.42833187, 8.06651722, 8.3024719 , 7.36567791, 7.63725883])"
      ]
     },
     "execution_count": 10,
     "metadata": {},
     "output_type": "execute_result"
    }
   ],
   "source": [
    "cats_wisker_length"
   ]
  },
  {
   "cell_type": "code",
   "execution_count": 11,
   "id": "164c6ee7",
   "metadata": {},
   "outputs": [
    {
     "data": {
      "image/png": "[encoded data removed]",
      "text/plain": [
       "<Figure size 640x480 with 1 Axes>"
      ]
     },
     "metadata": {},
     "output_type": "display_data"
    }
   ],
   "source": [
    "#Plot the data points\n",
    "plt.scatter(dogs_wisker_length,dogs_flapiness_index, color='blue', label='Dogs')\n",
    "plt.scatter(cats_wisker_length,cats_flapiness_index, color='red', label='Cats')\n",
    "plt.title('Dog vs Cart Random Linear classification')\n",
    "plt.xlabel('Wisker Length')\n",
    "plt.ylabel('Ear Flapiness Index')\n",
    "plt.legend()\n",
    "plt.show()"
   ]
  },
  {
   "cell_type": "code",
   "execution_count": 14,
   "id": "8d46d6fa",
   "metadata": {},
   "outputs": [],
   "source": [
    "#Impliment random linear clasifier algorithm\n",
    "def random_linear_classifier(dogs_data, cats_data, k, d):\n",
    "    best_error = float('inf')\n",
    "    best_theta = None\n",
    "    best_theta0 = None\n",
    "\n",
    "    for _ in range(k):\n",
    "        theta = np.random.normal(size=d)\n",
    "        theta0 = np.random.normal()\n",
    "\n",
    "        error = compute_error(dogs_data,cats_data,theta,theta0)\n",
    "\n",
    "        if error < best_error:\n",
    "            best_error = error\n",
    "            best_theta = theta\n",
    "            best_theta0 = theta0\n",
    "    return best_theta, best_theta0"
   ]
  },
  {
   "cell_type": "code",
   "execution_count": 13,
   "id": "3796aa2f",
   "metadata": {},
   "outputs": [],
   "source": [
    "def compute_error(dogs_data, cats_data, theta, theta0):\n",
    "    error = 0\n",
    "    for x_dog in dogs_data:\n",
    "        if np.dot(theta, x_dog) + theta0 <= 0:\n",
    "            error +=1\n",
    "    for x_cat in cats_data:\n",
    "        if np.dot(theta, x_cat) +  theta0 >= 0:\n",
    "            error +=1\n",
    "    return error\n"
   ]
  },
  {
   "cell_type": "code",
   "execution_count": 15,
   "id": "f3e81848",
   "metadata": {},
   "outputs": [],
   "source": [
    "# Prepair the data for algorithm\n",
    "dogs_data = np.vstack((dogs_wisker_length, dogs_flapiness_index)).T\n",
    "cats_data = np.vstack((cats_wisker_length, cats_flapiness_index)).T"
   ]
  },
  {
   "cell_type": "code",
   "execution_count": 16,
   "id": "7cf4579e",
   "metadata": {},
   "outputs": [
    {
     "data": {
      "text/plain": [
       "array([[ 6.76405235,  5.44701018],\n",
       "       [ 5.40015721,  8.6536186 ],\n",
       "       [ 5.97873798,  8.8644362 ],\n",
       "       [ 7.2408932 ,  7.25783498],\n",
       "       [ 6.86755799, 10.26975462],\n",
       "       [ 4.02272212,  6.54563433],\n",
       "       [ 5.95008842,  8.04575852],\n",
       "       [ 4.84864279,  7.81281615],\n",
       "       [ 4.89678115,  9.53277921],\n",
       "       [ 5.4105985 ,  9.46935877],\n",
       "       [ 5.14404357,  8.15494743],\n",
       "       [ 6.45427351,  8.37816252],\n",
       "       [ 5.76103773,  7.11221425],\n",
       "       [ 5.12167502,  6.01920353],\n",
       "       [ 5.44386323,  7.65208785],\n",
       "       [ 5.33367433,  8.15634897],\n",
       "       [ 6.49407907,  9.23029068],\n",
       "       [ 4.79484174,  9.20237985],\n",
       "       [ 5.3130677 ,  7.61267318],\n",
       "       [ 4.14590426,  7.69769725]])"
      ]
     },
     "execution_count": 16,
     "metadata": {},
     "output_type": "execute_result"
    }
   ],
   "source": [
    "dogs_data"
   ]
  },
  {
   "cell_type": "code",
   "execution_count": 17,
   "id": "e0e02678",
   "metadata": {},
   "outputs": [
    {
     "data": {
      "text/plain": [
       "array([[6.95144703, 4.32753955],\n",
       "       [6.57998206, 4.64044684],\n",
       "       [6.29372981, 4.18685372],\n",
       "       [9.9507754 , 3.2737174 ],\n",
       "       [7.49034782, 5.17742614],\n",
       "       [7.5619257 , 4.59821906],\n",
       "       [6.74720464, 3.36980165],\n",
       "       [8.77749036, 5.46278226],\n",
       "       [6.38610215, 4.09270164],\n",
       "       [7.78725972, 5.0519454 ],\n",
       "       [7.10453344, 5.72909056],\n",
       "       [8.3869025 , 5.12898291],\n",
       "       [7.48919486, 6.13940068],\n",
       "       [6.81936782, 3.76517418],\n",
       "       [7.97181777, 5.40234164],\n",
       "       [8.42833187, 4.31518991],\n",
       "       [8.06651722, 4.12920285],\n",
       "       [8.3024719 , 4.42115034],\n",
       "       [7.36567791, 4.68844747],\n",
       "       [7.63725883, 5.05616534]])"
      ]
     },
     "execution_count": 17,
     "metadata": {},
     "output_type": "execute_result"
    }
   ],
   "source": [
    "cats_data"
   ]
  },
  {
   "cell_type": "code",
   "execution_count": 19,
   "id": "73f0ce7e",
   "metadata": {},
   "outputs": [],
   "source": [
    "# Run random linear classifier\n",
    "k = 1000\n",
    "d= 2\n",
    "best_theta, best_theta0 = random_linear_classifier(dogs_data, cats_data, k, d)"
   ]
  },
  {
   "cell_type": "code",
   "execution_count": 21,
   "id": "962ba5b5",
   "metadata": {},
   "outputs": [
    {
     "data": {
      "text/plain": [
       "array([-0.86563364,  0.7324853 ])"
      ]
     },
     "execution_count": 21,
     "metadata": {},
     "output_type": "execute_result"
    }
   ],
   "source": [
    "best_theta\n"
   ]
  },
  {
   "cell_type": "code",
   "execution_count": 22,
   "id": "8bb90f2e",
   "metadata": {},
   "outputs": [
    {
     "data": {
      "text/plain": [
       "1.9070558424177735"
      ]
     },
     "execution_count": 22,
     "metadata": {},
     "output_type": "execute_result"
    }
   ],
   "source": [
    "best_theta0"
   ]
  },
  {
   "cell_type": "code",
   "execution_count": 23,
   "id": "80e7a34a",
   "metadata": {},
   "outputs": [],
   "source": [
    "# Plot the ecission boundary\n",
    "x = np.linspace(2,10,100)\n",
    "y = (-best_theta[0] / best_theta[1]) * x - (best_theta0 / best_theta[1])"
   ]
  },
  {
   "cell_type": "code",
   "execution_count": 24,
   "id": "93d72780",
   "metadata": {},
   "outputs": [
    {
     "data": {
      "image/png": "[encoded data removed]",
      "text/plain": [
       "<Figure size 640x480 with 1 Axes>"
      ]
     },
     "metadata": {},
     "output_type": "display_data"
    }
   ],
   "source": [
    "plt.scatter(dogs_wisker_length,dogs_flapiness_index, color='blue', label='Dogs')\n",
    "plt.scatter(cats_wisker_length,cats_flapiness_index, color='red', label='Cats')\n",
    "plt.plot(x, y, color='green', label='Decision Boundary', linestyle='--')\n",
    "plt.title('Dog vs Cat Random Linear Classification')\n",
    "plt.xlabel('Wisker Length')\n",
    "plt.ylabel('Ear Flapiness Index')\n",
    "plt.legend()\n",
    "plt.show()"
   ]
  }
 ],
 "metadata": {
  "kernelspec": {
   "display_name": "Python 3",
   "language": "python",
   "name": "python3"
  },
  "language_info": {
   "codemirror_mode": {
    "name": "ipython",
    "version": 3
   },
   "file_extension": ".py",
   "mimetype": "text/x-python",
   "name": "python",
   "nbconvert_exporter": "python",
   "pygments_lexer": "ipython3",
   "version": "3.12.6"
  }
 },
 "nbformat": 4,
 "nbformat_minor": 5
}
